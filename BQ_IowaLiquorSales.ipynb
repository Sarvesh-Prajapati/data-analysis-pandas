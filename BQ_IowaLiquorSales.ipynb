{
  "nbformat": 4,
  "nbformat_minor": 0,
  "metadata": {
    "colab": {
      "provenance": [],
      "authorship_tag": "ABX9TyMcNKcnk99aRRgLko7Nh+E1"
    },
    "kernelspec": {
      "name": "python3",
      "display_name": "Python 3"
    },
    "language_info": {
      "name": "python"
    }
  },
  "cells": [
    {
      "cell_type": "markdown",
      "source": [
        "# **Iowa Liquor Retail Sales Big Query Dataset Transformation & Analysis**\n",
        "---"
      ],
      "metadata": {
        "id": "XrWF6jngf4Ze"
      }
    },
    {
      "cell_type": "markdown",
      "source": [
        "**The dataset used here includes statewide wholesale liquor purchases by Iowa (state in USA) retailers since January 1, 2012. It details orders from grocery stores, liquor stores, and convenience stores, including store locations, liquor brands, sizes, and quantities. The complete Iowa state's liquor retail sales raw dataset contains more than 40 million records and can be downloaded from [this Big Query link](https://console.cloud.google.com/marketplace/product/iowa-department-of-commerce/iowa-liquor-sales).**\n",
        "\n",
        "**For our data transformation and analysis activity, we've used here only the top 30000 records from the dataset.**\n",
        "\n",
        "---"
      ],
      "metadata": {
        "id": "k0QblpXacURW"
      }
    },
    {
      "cell_type": "markdown",
      "source": [
        "## **Importing the dataset**"
      ],
      "metadata": {
        "id": "xNEehtUZgWbh"
      }
    },
    {
      "cell_type": "code",
      "execution_count": 10,
      "metadata": {
        "id": "yzSE3lBibAuS"
      },
      "outputs": [],
      "source": [
        "import pandas as pd\n",
        "\n",
        "df = pd.read_csv('/content/BQ_liquor_sales_data.csv')\n",
        "pd.set_option('display.max_columns', df.shape[1])"
      ]
    },
    {
      "cell_type": "code",
      "source": [
        "df.head(3)"
      ],
      "metadata": {
        "colab": {
          "base_uri": "https://localhost:8080/",
          "height": 320
        },
        "id": "4TlQP0subOT6",
        "outputId": "e0933932-da32-4537-9e39-9d66652d471e"
      },
      "execution_count": 12,
      "outputs": [
        {
          "output_type": "execute_result",
          "data": {
            "text/plain": [
              "  invoice_and_item_number        date  store_number  \\\n",
              "0        RINV-04433600124  2022-12-27          5102   \n",
              "1        RINV-05415000024  2024-09-03          3549   \n",
              "2        RINV-04846600166  2023-09-12          2560   \n",
              "\n",
              "                          store_name                     address  \\\n",
              "0                     WILKIE LIQUORS           724 1ST STREET NE   \n",
              "1               QUICKER LIQUOR STORE                1414 48TH ST   \n",
              "2  HY-VEE FOOD STORE (1396) / MARION  3600 BUSINESS HWY 151 EAST   \n",
              "\n",
              "           city zip_code                     store_location  county_number  \\\n",
              "0  MOUNT VERNON  52314.0          POINT(-91.41231 41.92012)            NaN   \n",
              "1  FORT MADISON    52627          POINT(-91.37319 40.62423)            NaN   \n",
              "2        MARION  52302.0  POINT(-91.572182976 42.037394006)            NaN   \n",
              "\n",
              "  county   category                         category_name  vendor_number  \\\n",
              "0   LINN  1012100.0                     CANADIAN WHISKIES          260.0   \n",
              "1    LEE  1092100.0  IMPORTED DISTILLED SPIRITS SPECIALTY          434.0   \n",
              "2   LINN  1031100.0                       AMERICAN VODKAS          301.0   \n",
              "\n",
              "            vendor_name  item_number      item_description  pack  \\\n",
              "0       DIAGEO AMERICAS        11297           CROWN ROYAL    12   \n",
              "1             LUXCO INC        75087       JUAREZ GOLD DSS    12   \n",
              "2  FIFTH GENERATION INC        38176  TITOS HANDMADE VODKA    12   \n",
              "\n",
              "   bottle_volume_ml  state_bottle_cost  state_bottle_retail  bottles_sold  \\\n",
              "0              1000              19.99                29.99           -84   \n",
              "1              1000               5.09                 7.64           -24   \n",
              "2               750              10.00                15.00           -24   \n",
              "\n",
              "   sale_dollars  volume_sold_liters  volume_sold_gallons  \n",
              "0      -2519.16               -84.0               -22.19  \n",
              "1       -183.36               -24.0                -6.34  \n",
              "2       -360.00               -18.0                -4.75  "
            ],
            "text/html": [
              "\n",
              "  <div id=\"df-c12da3ff-6687-403d-9789-f71e05a8f741\" class=\"colab-df-container\">\n",
              "    <div>\n",
              "<style scoped>\n",
              "    .dataframe tbody tr th:only-of-type {\n",
              "        vertical-align: middle;\n",
              "    }\n",
              "\n",
              "    .dataframe tbody tr th {\n",
              "        vertical-align: top;\n",
              "    }\n",
              "\n",
              "    .dataframe thead th {\n",
              "        text-align: right;\n",
              "    }\n",
              "</style>\n",
              "<table border=\"1\" class=\"dataframe\">\n",
              "  <thead>\n",
              "    <tr style=\"text-align: right;\">\n",
              "      <th></th>\n",
              "      <th>invoice_and_item_number</th>\n",
              "      <th>date</th>\n",
              "      <th>store_number</th>\n",
              "      <th>store_name</th>\n",
              "      <th>address</th>\n",
              "      <th>city</th>\n",
              "      <th>zip_code</th>\n",
              "      <th>store_location</th>\n",
              "      <th>county_number</th>\n",
              "      <th>county</th>\n",
              "      <th>category</th>\n",
              "      <th>category_name</th>\n",
              "      <th>vendor_number</th>\n",
              "      <th>vendor_name</th>\n",
              "      <th>item_number</th>\n",
              "      <th>item_description</th>\n",
              "      <th>pack</th>\n",
              "      <th>bottle_volume_ml</th>\n",
              "      <th>state_bottle_cost</th>\n",
              "      <th>state_bottle_retail</th>\n",
              "      <th>bottles_sold</th>\n",
              "      <th>sale_dollars</th>\n",
              "      <th>volume_sold_liters</th>\n",
              "      <th>volume_sold_gallons</th>\n",
              "    </tr>\n",
              "  </thead>\n",
              "  <tbody>\n",
              "    <tr>\n",
              "      <th>0</th>\n",
              "      <td>RINV-04433600124</td>\n",
              "      <td>2022-12-27</td>\n",
              "      <td>5102</td>\n",
              "      <td>WILKIE LIQUORS</td>\n",
              "      <td>724 1ST STREET NE</td>\n",
              "      <td>MOUNT VERNON</td>\n",
              "      <td>52314.0</td>\n",
              "      <td>POINT(-91.41231 41.92012)</td>\n",
              "      <td>NaN</td>\n",
              "      <td>LINN</td>\n",
              "      <td>1012100.0</td>\n",
              "      <td>CANADIAN WHISKIES</td>\n",
              "      <td>260.0</td>\n",
              "      <td>DIAGEO AMERICAS</td>\n",
              "      <td>11297</td>\n",
              "      <td>CROWN ROYAL</td>\n",
              "      <td>12</td>\n",
              "      <td>1000</td>\n",
              "      <td>19.99</td>\n",
              "      <td>29.99</td>\n",
              "      <td>-84</td>\n",
              "      <td>-2519.16</td>\n",
              "      <td>-84.0</td>\n",
              "      <td>-22.19</td>\n",
              "    </tr>\n",
              "    <tr>\n",
              "      <th>1</th>\n",
              "      <td>RINV-05415000024</td>\n",
              "      <td>2024-09-03</td>\n",
              "      <td>3549</td>\n",
              "      <td>QUICKER LIQUOR STORE</td>\n",
              "      <td>1414 48TH ST</td>\n",
              "      <td>FORT MADISON</td>\n",
              "      <td>52627</td>\n",
              "      <td>POINT(-91.37319 40.62423)</td>\n",
              "      <td>NaN</td>\n",
              "      <td>LEE</td>\n",
              "      <td>1092100.0</td>\n",
              "      <td>IMPORTED DISTILLED SPIRITS SPECIALTY</td>\n",
              "      <td>434.0</td>\n",
              "      <td>LUXCO INC</td>\n",
              "      <td>75087</td>\n",
              "      <td>JUAREZ GOLD DSS</td>\n",
              "      <td>12</td>\n",
              "      <td>1000</td>\n",
              "      <td>5.09</td>\n",
              "      <td>7.64</td>\n",
              "      <td>-24</td>\n",
              "      <td>-183.36</td>\n",
              "      <td>-24.0</td>\n",
              "      <td>-6.34</td>\n",
              "    </tr>\n",
              "    <tr>\n",
              "      <th>2</th>\n",
              "      <td>RINV-04846600166</td>\n",
              "      <td>2023-09-12</td>\n",
              "      <td>2560</td>\n",
              "      <td>HY-VEE FOOD STORE (1396) / MARION</td>\n",
              "      <td>3600 BUSINESS HWY 151 EAST</td>\n",
              "      <td>MARION</td>\n",
              "      <td>52302.0</td>\n",
              "      <td>POINT(-91.572182976 42.037394006)</td>\n",
              "      <td>NaN</td>\n",
              "      <td>LINN</td>\n",
              "      <td>1031100.0</td>\n",
              "      <td>AMERICAN VODKAS</td>\n",
              "      <td>301.0</td>\n",
              "      <td>FIFTH GENERATION INC</td>\n",
              "      <td>38176</td>\n",
              "      <td>TITOS HANDMADE VODKA</td>\n",
              "      <td>12</td>\n",
              "      <td>750</td>\n",
              "      <td>10.00</td>\n",
              "      <td>15.00</td>\n",
              "      <td>-24</td>\n",
              "      <td>-360.00</td>\n",
              "      <td>-18.0</td>\n",
              "      <td>-4.75</td>\n",
              "    </tr>\n",
              "  </tbody>\n",
              "</table>\n",
              "</div>\n",
              "    <div class=\"colab-df-buttons\">\n",
              "\n",
              "  <div class=\"colab-df-container\">\n",
              "    <button class=\"colab-df-convert\" onclick=\"convertToInteractive('df-c12da3ff-6687-403d-9789-f71e05a8f741')\"\n",
              "            title=\"Convert this dataframe to an interactive table.\"\n",
              "            style=\"display:none;\">\n",
              "\n",
              "  <svg xmlns=\"http://www.w3.org/2000/svg\" height=\"24px\" viewBox=\"0 -960 960 960\">\n",
              "    <path d=\"M120-120v-720h720v720H120Zm60-500h600v-160H180v160Zm220 220h160v-160H400v160Zm0 220h160v-160H400v160ZM180-400h160v-160H180v160Zm440 0h160v-160H620v160ZM180-180h160v-160H180v160Zm440 0h160v-160H620v160Z\"/>\n",
              "  </svg>\n",
              "    </button>\n",
              "\n",
              "  <style>\n",
              "    .colab-df-container {\n",
              "      display:flex;\n",
              "      gap: 12px;\n",
              "    }\n",
              "\n",
              "    .colab-df-convert {\n",
              "      background-color: #E8F0FE;\n",
              "      border: none;\n",
              "      border-radius: 50%;\n",
              "      cursor: pointer;\n",
              "      display: none;\n",
              "      fill: #1967D2;\n",
              "      height: 32px;\n",
              "      padding: 0 0 0 0;\n",
              "      width: 32px;\n",
              "    }\n",
              "\n",
              "    .colab-df-convert:hover {\n",
              "      background-color: #E2EBFA;\n",
              "      box-shadow: 0px 1px 2px rgba(60, 64, 67, 0.3), 0px 1px 3px 1px rgba(60, 64, 67, 0.15);\n",
              "      fill: #174EA6;\n",
              "    }\n",
              "\n",
              "    .colab-df-buttons div {\n",
              "      margin-bottom: 4px;\n",
              "    }\n",
              "\n",
              "    [theme=dark] .colab-df-convert {\n",
              "      background-color: #3B4455;\n",
              "      fill: #D2E3FC;\n",
              "    }\n",
              "\n",
              "    [theme=dark] .colab-df-convert:hover {\n",
              "      background-color: #434B5C;\n",
              "      box-shadow: 0px 1px 3px 1px rgba(0, 0, 0, 0.15);\n",
              "      filter: drop-shadow(0px 1px 2px rgba(0, 0, 0, 0.3));\n",
              "      fill: #FFFFFF;\n",
              "    }\n",
              "  </style>\n",
              "\n",
              "    <script>\n",
              "      const buttonEl =\n",
              "        document.querySelector('#df-c12da3ff-6687-403d-9789-f71e05a8f741 button.colab-df-convert');\n",
              "      buttonEl.style.display =\n",
              "        google.colab.kernel.accessAllowed ? 'block' : 'none';\n",
              "\n",
              "      async function convertToInteractive(key) {\n",
              "        const element = document.querySelector('#df-c12da3ff-6687-403d-9789-f71e05a8f741');\n",
              "        const dataTable =\n",
              "          await google.colab.kernel.invokeFunction('convertToInteractive',\n",
              "                                                    [key], {});\n",
              "        if (!dataTable) return;\n",
              "\n",
              "        const docLinkHtml = 'Like what you see? Visit the ' +\n",
              "          '<a target=\"_blank\" href=https://colab.research.google.com/notebooks/data_table.ipynb>data table notebook</a>'\n",
              "          + ' to learn more about interactive tables.';\n",
              "        element.innerHTML = '';\n",
              "        dataTable['output_type'] = 'display_data';\n",
              "        await google.colab.output.renderOutput(dataTable, element);\n",
              "        const docLink = document.createElement('div');\n",
              "        docLink.innerHTML = docLinkHtml;\n",
              "        element.appendChild(docLink);\n",
              "      }\n",
              "    </script>\n",
              "  </div>\n",
              "\n",
              "\n",
              "<div id=\"df-1d22e4db-c8c7-478f-9a4e-24b2d3d2ca76\">\n",
              "  <button class=\"colab-df-quickchart\" onclick=\"quickchart('df-1d22e4db-c8c7-478f-9a4e-24b2d3d2ca76')\"\n",
              "            title=\"Suggest charts\"\n",
              "            style=\"display:none;\">\n",
              "\n",
              "<svg xmlns=\"http://www.w3.org/2000/svg\" height=\"24px\"viewBox=\"0 0 24 24\"\n",
              "     width=\"24px\">\n",
              "    <g>\n",
              "        <path d=\"M19 3H5c-1.1 0-2 .9-2 2v14c0 1.1.9 2 2 2h14c1.1 0 2-.9 2-2V5c0-1.1-.9-2-2-2zM9 17H7v-7h2v7zm4 0h-2V7h2v10zm4 0h-2v-4h2v4z\"/>\n",
              "    </g>\n",
              "</svg>\n",
              "  </button>\n",
              "\n",
              "<style>\n",
              "  .colab-df-quickchart {\n",
              "      --bg-color: #E8F0FE;\n",
              "      --fill-color: #1967D2;\n",
              "      --hover-bg-color: #E2EBFA;\n",
              "      --hover-fill-color: #174EA6;\n",
              "      --disabled-fill-color: #AAA;\n",
              "      --disabled-bg-color: #DDD;\n",
              "  }\n",
              "\n",
              "  [theme=dark] .colab-df-quickchart {\n",
              "      --bg-color: #3B4455;\n",
              "      --fill-color: #D2E3FC;\n",
              "      --hover-bg-color: #434B5C;\n",
              "      --hover-fill-color: #FFFFFF;\n",
              "      --disabled-bg-color: #3B4455;\n",
              "      --disabled-fill-color: #666;\n",
              "  }\n",
              "\n",
              "  .colab-df-quickchart {\n",
              "    background-color: var(--bg-color);\n",
              "    border: none;\n",
              "    border-radius: 50%;\n",
              "    cursor: pointer;\n",
              "    display: none;\n",
              "    fill: var(--fill-color);\n",
              "    height: 32px;\n",
              "    padding: 0;\n",
              "    width: 32px;\n",
              "  }\n",
              "\n",
              "  .colab-df-quickchart:hover {\n",
              "    background-color: var(--hover-bg-color);\n",
              "    box-shadow: 0 1px 2px rgba(60, 64, 67, 0.3), 0 1px 3px 1px rgba(60, 64, 67, 0.15);\n",
              "    fill: var(--button-hover-fill-color);\n",
              "  }\n",
              "\n",
              "  .colab-df-quickchart-complete:disabled,\n",
              "  .colab-df-quickchart-complete:disabled:hover {\n",
              "    background-color: var(--disabled-bg-color);\n",
              "    fill: var(--disabled-fill-color);\n",
              "    box-shadow: none;\n",
              "  }\n",
              "\n",
              "  .colab-df-spinner {\n",
              "    border: 2px solid var(--fill-color);\n",
              "    border-color: transparent;\n",
              "    border-bottom-color: var(--fill-color);\n",
              "    animation:\n",
              "      spin 1s steps(1) infinite;\n",
              "  }\n",
              "\n",
              "  @keyframes spin {\n",
              "    0% {\n",
              "      border-color: transparent;\n",
              "      border-bottom-color: var(--fill-color);\n",
              "      border-left-color: var(--fill-color);\n",
              "    }\n",
              "    20% {\n",
              "      border-color: transparent;\n",
              "      border-left-color: var(--fill-color);\n",
              "      border-top-color: var(--fill-color);\n",
              "    }\n",
              "    30% {\n",
              "      border-color: transparent;\n",
              "      border-left-color: var(--fill-color);\n",
              "      border-top-color: var(--fill-color);\n",
              "      border-right-color: var(--fill-color);\n",
              "    }\n",
              "    40% {\n",
              "      border-color: transparent;\n",
              "      border-right-color: var(--fill-color);\n",
              "      border-top-color: var(--fill-color);\n",
              "    }\n",
              "    60% {\n",
              "      border-color: transparent;\n",
              "      border-right-color: var(--fill-color);\n",
              "    }\n",
              "    80% {\n",
              "      border-color: transparent;\n",
              "      border-right-color: var(--fill-color);\n",
              "      border-bottom-color: var(--fill-color);\n",
              "    }\n",
              "    90% {\n",
              "      border-color: transparent;\n",
              "      border-bottom-color: var(--fill-color);\n",
              "    }\n",
              "  }\n",
              "</style>\n",
              "\n",
              "  <script>\n",
              "    async function quickchart(key) {\n",
              "      const quickchartButtonEl =\n",
              "        document.querySelector('#' + key + ' button');\n",
              "      quickchartButtonEl.disabled = true;  // To prevent multiple clicks.\n",
              "      quickchartButtonEl.classList.add('colab-df-spinner');\n",
              "      try {\n",
              "        const charts = await google.colab.kernel.invokeFunction(\n",
              "            'suggestCharts', [key], {});\n",
              "      } catch (error) {\n",
              "        console.error('Error during call to suggestCharts:', error);\n",
              "      }\n",
              "      quickchartButtonEl.classList.remove('colab-df-spinner');\n",
              "      quickchartButtonEl.classList.add('colab-df-quickchart-complete');\n",
              "    }\n",
              "    (() => {\n",
              "      let quickchartButtonEl =\n",
              "        document.querySelector('#df-1d22e4db-c8c7-478f-9a4e-24b2d3d2ca76 button');\n",
              "      quickchartButtonEl.style.display =\n",
              "        google.colab.kernel.accessAllowed ? 'block' : 'none';\n",
              "    })();\n",
              "  </script>\n",
              "</div>\n",
              "\n",
              "    </div>\n",
              "  </div>\n"
            ],
            "application/vnd.google.colaboratory.intrinsic+json": {
              "type": "dataframe",
              "variable_name": "df"
            }
          },
          "metadata": {},
          "execution_count": 12
        }
      ]
    },
    {
      "cell_type": "markdown",
      "source": [
        "## **Data Transformation**"
      ],
      "metadata": {
        "id": "rMixKNkporyL"
      }
    },
    {
      "cell_type": "markdown",
      "source": [
        "**Some methods for premiliary checks are as follows. One can run them one line at a time.**"
      ],
      "metadata": {
        "id": "m5oWvK_KpERk"
      }
    },
    {
      "cell_type": "code",
      "source": [
        "'''Methods for preliminary checks'''\n",
        "\n",
        "# df.shape              # o/p : (30000, 24)\n",
        "# df.info()             # Shows df shape, col names, their non-null val count, & dtypes\n",
        "# df.dtypes             # Col names & their dtypes\n",
        "# df.describe()         # Statistical data about df's numeric cols\n",
        "# df.axes               # List of row axis' and col axis' labels, in that order\n",
        "# df.index              # List of labels in index col\n",
        "# df.columns            # List of all col labels\n",
        "# df.keys()             # List of all col labels\n",
        "# df.index.name         # Label of index col\n",
        "# df.index.names        # Labels of multi-col index, aka multi-index\n",
        "# df.ndim               # No. of dimensions in df (2 here)\n",
        "# df.memory_usage()     # Memory usage of each col in bytes\n",
        "# df.select_dtypes(exclude = 'object')        # include/exclude cols of specified dtypes"
      ],
      "metadata": {
        "id": "ob2Ea2E9pNqZ"
      },
      "execution_count": null,
      "outputs": []
    },
    {
      "cell_type": "markdown",
      "source": [
        "**Checking dtypes of columns**"
      ],
      "metadata": {
        "id": "78HBBCr5pz0j"
      }
    },
    {
      "cell_type": "code",
      "source": [
        "[df.dtypes]  # Enclosing in brackets for a compact o/p"
      ],
      "metadata": {
        "colab": {
          "base_uri": "https://localhost:8080/"
        },
        "id": "oJW04EJNpnll",
        "outputId": "9b04af32-74b3-4137-a633-4a0903f67b64"
      },
      "execution_count": 28,
      "outputs": [
        {
          "output_type": "execute_result",
          "data": {
            "text/plain": [
              "[invoice_and_item_number            object\n",
              " date                       datetime64[ns]\n",
              " store_number                        int64\n",
              " store_name                         object\n",
              " address                            object\n",
              " city                               object\n",
              " zip_code                           object\n",
              " store_location                     object\n",
              " county_number                     float64\n",
              " county                             object\n",
              " category                          float64\n",
              " category_name                      object\n",
              " vendor_number                     float64\n",
              " vendor_name                        object\n",
              " item_number                         int64\n",
              " item_description                   object\n",
              " pack                                int64\n",
              " bottle_volume_ml                    int64\n",
              " state_bottle_cost                 float64\n",
              " state_bottle_retail               float64\n",
              " bottles_sold                        int64\n",
              " sale_dollars                      float64\n",
              " volume_sold_liters                float64\n",
              " volume_sold_gallons               float64\n",
              " dtype: object]"
            ]
          },
          "metadata": {},
          "execution_count": 28
        }
      ]
    },
    {
      "cell_type": "markdown",
      "source": [
        "**The** 'date' **column's dtype should be of** datetime **type so that we can extract various date components later on.**"
      ],
      "metadata": {
        "id": "mDJqR9jXp4P2"
      }
    },
    {
      "cell_type": "code",
      "source": [
        "df['date'] = pd.to_datetime(df['date'], format = '%Y-%m-%d')\n",
        "df['date'].dtype  # o/p : dtype('<M8[ns]')"
      ],
      "metadata": {
        "id": "5NicrBNMp_6t"
      },
      "execution_count": null,
      "outputs": []
    },
    {
      "cell_type": "markdown",
      "source": [
        "**Identifying the number of unique values in each column**"
      ],
      "metadata": {
        "id": "Vg_4Rz2jqisl"
      }
    },
    {
      "cell_type": "code",
      "source": [
        "[df.nunique()]  # Enclosing in brackets for a compact o/p"
      ],
      "metadata": {
        "colab": {
          "base_uri": "https://localhost:8080/"
        },
        "id": "uo5mw_jgqhxo",
        "outputId": "125cf9dd-33a0-4947-e8c4-f56678345d7b"
      },
      "execution_count": 27,
      "outputs": [
        {
          "output_type": "execute_result",
          "data": {
            "text/plain": [
              "[invoice_and_item_number    30000\n",
              " date                        3236\n",
              " store_number                2399\n",
              " store_name                  2464\n",
              " address                     2388\n",
              " city                         438\n",
              " zip_code                     834\n",
              " store_location              4825\n",
              " county_number                 99\n",
              " county                        99\n",
              " category                      94\n",
              " category_name                 90\n",
              " vendor_number                161\n",
              " vendor_name                  218\n",
              " item_number                 3220\n",
              " item_description            3140\n",
              " pack                          19\n",
              " bottle_volume_ml              21\n",
              " state_bottle_cost           1400\n",
              " state_bottle_retail         1553\n",
              " bottles_sold                  29\n",
              " sale_dollars                2270\n",
              " volume_sold_liters            48\n",
              " volume_sold_gallons           49\n",
              " dtype: int64]"
            ]
          },
          "metadata": {},
          "execution_count": 27
        }
      ]
    },
    {
      "cell_type": "markdown",
      "source": [
        "**Dropping unwanted columns**"
      ],
      "metadata": {
        "id": "hYrGNfhmphp9"
      }
    },
    {
      "cell_type": "code",
      "source": [
        "df.drop(columns = ['volume_sold_gallons'], inplace = True)"
      ],
      "metadata": {
        "id": "Ym5fytnhcA31"
      },
      "execution_count": 29,
      "outputs": []
    },
    {
      "cell_type": "markdown",
      "source": [
        "**Checking the number of nulls in each column:**"
      ],
      "metadata": {
        "id": "x0ZdutdfsIxY"
      }
    },
    {
      "cell_type": "code",
      "source": [
        "[df.isnull().sum()]  # Enclosing in brackets for a compact o/p"
      ],
      "metadata": {
        "colab": {
          "base_uri": "https://localhost:8080/"
        },
        "id": "uT1NtDGjbUGW",
        "outputId": "5c9a4934-5d3e-4301-f576-6e7e8b61db9d"
      },
      "execution_count": 31,
      "outputs": [
        {
          "output_type": "execute_result",
          "data": {
            "text/plain": [
              "[invoice_and_item_number       0\n",
              " date                          0\n",
              " store_number                  0\n",
              " store_name                    0\n",
              " address                     114\n",
              " city                        114\n",
              " zip_code                    114\n",
              " store_location             2170\n",
              " county_number              8362\n",
              " county                      190\n",
              " category                     12\n",
              " category_name                22\n",
              " vendor_number                 0\n",
              " vendor_name                   0\n",
              " item_number                   0\n",
              " item_description              0\n",
              " pack                          0\n",
              " bottle_volume_ml              0\n",
              " state_bottle_cost             1\n",
              " state_bottle_retail           1\n",
              " bottles_sold                  0\n",
              " sale_dollars                  1\n",
              " volume_sold_liters            0\n",
              " dtype: int64]"
            ]
          },
          "metadata": {},
          "execution_count": 31
        }
      ]
    },
    {
      "cell_type": "code",
      "source": [
        "# prompt: How many rows have number of nulls in them equal to 6?\n",
        "\n",
        "import pandas as pd\n",
        "# Assuming the code you provided is already executed and 'df' is available.\n",
        "\n",
        "# Calculate the number of nulls in each row\n",
        "null_counts = df.isnull().sum(axis=1)\n",
        "\n",
        "# Count the number of rows where the number of nulls is equal to 6\n",
        "num_rows_with_6_nulls = (null_counts == 6).sum()\n",
        "\n",
        "print(f\"The number of rows with 6 null values is: {num_rows_with_6_nulls}\")\n"
      ],
      "metadata": {
        "colab": {
          "base_uri": "https://localhost:8080/"
        },
        "id": "Clrf1CH0sZcp",
        "outputId": "d1977e59-e431-4778-c1c2-502b1547f672"
      },
      "execution_count": 38,
      "outputs": [
        {
          "output_type": "execute_result",
          "data": {
            "text/plain": [
              "114"
            ]
          },
          "metadata": {},
          "execution_count": 38
        }
      ]
    },
    {
      "cell_type": "markdown",
      "source": [
        "**Column renaming**"
      ],
      "metadata": {
        "id": "oDoe4dD1pbK0"
      }
    },
    {
      "cell_type": "code",
      "source": [
        "'''TO BE RUN'''\n",
        "df.rename(columns = {'invoice_and_item_number': 'bill_number'}, inplace = True)"
      ],
      "metadata": {
        "id": "olB55k9Nbnro"
      },
      "execution_count": 26,
      "outputs": []
    },
    {
      "cell_type": "code",
      "source": [],
      "metadata": {
        "id": "TCu1OXTEbae8"
      },
      "execution_count": null,
      "outputs": []
    },
    {
      "cell_type": "code",
      "source": [],
      "metadata": {
        "id": "sHJMAyaQbbi8"
      },
      "execution_count": null,
      "outputs": []
    },
    {
      "cell_type": "code",
      "source": [],
      "metadata": {
        "id": "CTIH9JdKbbeQ"
      },
      "execution_count": null,
      "outputs": []
    },
    {
      "cell_type": "code",
      "source": [],
      "metadata": {
        "id": "JGAO3CJpbbX7"
      },
      "execution_count": null,
      "outputs": []
    },
    {
      "cell_type": "code",
      "source": [],
      "metadata": {
        "id": "PmajN4qibacD"
      },
      "execution_count": null,
      "outputs": []
    }
  ]
}
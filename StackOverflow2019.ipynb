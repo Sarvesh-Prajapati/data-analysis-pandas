{
  "nbformat": 4,
  "nbformat_minor": 0,
  "metadata": {
    "colab": {
      "provenance": [],
      "authorship_tag": "ABX9TyMYgNpWovwxfOU1lgNiuxS4"
    },
    "kernelspec": {
      "name": "python3",
      "display_name": "Python 3"
    },
    "language_info": {
      "name": "python"
    }
  },
  "cells": [
    {
      "cell_type": "code",
      "execution_count": 2,
      "metadata": {
        "colab": {
          "base_uri": "https://localhost:8080/"
        },
        "id": "-vvOP-YXsw1L",
        "outputId": "1205631d-d39b-4daf-b454-88745d0edca2"
      },
      "outputs": [
        {
          "output_type": "stream",
          "name": "stdout",
          "text": [
            "To be continued ... \n"
          ]
        }
      ],
      "source": [
        "print('To be continued ... ')"
      ]
    }
  ]
}